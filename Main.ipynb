{
 "cells": [
  {
   "cell_type": "code",
   "execution_count": 12,
   "metadata": {},
   "outputs": [],
   "source": [
    "import numpy as np\n",
    "import pandas as pd\n",
    "import Variables\n",
    "from IPython.display import clear_output"
   ]
  },
  {
   "cell_type": "code",
   "execution_count": 2,
   "metadata": {},
   "outputs": [],
   "source": [
    "rows = [1,2,3,4,5,6,7,8,9]\n",
    "columns = [1,2,3,4,5,6,7,8,9]"
   ]
  },
  {
   "cell_type": "code",
   "execution_count": 3,
   "metadata": {},
   "outputs": [],
   "source": [
    "board_ = pd.DataFrame(np.array(np.zeros((9,9))), rows, columns)"
   ]
  },
  {
   "cell_type": "code",
   "execution_count": 5,
   "metadata": {},
   "outputs": [],
   "source": [
    "def update_board(newboard):\n",
    "    Variables.board = ''\n",
    "    for i in range(1,len(columns)+1):\n",
    "        for j in range(1,len(rows)+1):\n",
    "            Variables.board += str(int(float(newboard.loc[i,j])))+' '\n",
    "        Variables.board += '\\n'"
   ]
  },
  {
   "cell_type": "code",
   "execution_count": 6,
   "metadata": {},
   "outputs": [],
   "source": [
    "update_board(board_)"
   ]
  },
  {
   "cell_type": "code",
   "execution_count": 8,
   "metadata": {},
   "outputs": [],
   "source": [
    "def check_win1(board):\n",
    "    win = False\n",
    "    for i in columns:\n",
    "        col = board[i]\n",
    "        for first in range(9,2,-1):\n",
    "            if (col[first]==1) and (col[first-1]==1) and (col[first-2]==1):\n",
    "                win = True\n",
    "    return win"
   ]
  },
  {
   "cell_type": "code",
   "execution_count": 9,
   "metadata": {},
   "outputs": [],
   "source": [
    "def check_win2(board):\n",
    "    win = False\n",
    "    for i in columns:\n",
    "        col = board[i]\n",
    "        for first in range(9,2,-1):\n",
    "            if (col[first]==2) and (col[first-1]==2) and (col[first-2]==2):\n",
    "                win = True\n",
    "    return win"
   ]
  },
  {
   "cell_type": "code",
   "execution_count": 15,
   "metadata": {},
   "outputs": [],
   "source": [
    "def Start_game(Player1=1, Player2=2):\n",
    "    board_ = pd.DataFrame(np.array(np.zeros((9,9))), rows, columns)\n",
    "    board_ = board_.astype(str)\n",
    "    update_board(board_)\n",
    "    current_player = 1\n",
    "    while (True):\n",
    "        clear_output()\n",
    "        print(Variables.board)\n",
    "        \n",
    "        if (check_win1(board_) == True):\n",
    "            print(\"PLAYER 1 WINS!!!\")\n",
    "            break\n",
    "        if (check_win2(board_) == True):\n",
    "            print(\"PLAYER 2 WINS!!!\")\n",
    "            break\n",
    "            \n",
    "        move = int(input(f\"Player{current_player} Which column do you want to drop in: \"))\n",
    "        if (move <= 9):\n",
    "            if board_.iloc[move-1][9] != '0.0':\n",
    "                print(str(board_.iloc[move][9]))\n",
    "                continue\n",
    "            else:\n",
    "                for i in range(len(board_[move]),0,-1):\n",
    "                    if str(board_[move][i]) == '0.0':\n",
    "                        board_[move][i] = current_player\n",
    "                        update_board(board_)\n",
    "                        if (current_player == 1):\n",
    "                            current_player = 2\n",
    "                        else:\n",
    "                            current_player = 1\n",
    "                        break\n",
    "        else:\n",
    "            print(\"Invalid input\")"
   ]
  },
  {
   "cell_type": "code",
   "execution_count": 16,
   "metadata": {},
   "outputs": [
    {
     "output_type": "stream",
     "name": "stdout",
     "text": [
      "0 0 0 0 0 0 0 0 0 \n0 0 0 0 0 0 0 0 0 \n0 0 0 0 0 0 0 0 0 \n0 0 0 0 0 0 0 0 0 \n0 0 0 0 0 0 0 0 0 \n0 0 0 0 0 0 0 0 0 \n2 2 0 0 1 0 0 0 0 \n1 1 0 0 1 2 1 0 0 \n1 1 0 2 1 2 2 0 2 \n\nPLAYER 1 WINS!!!\n"
     ]
    }
   ],
   "source": [
    "Start_game()"
   ]
  },
  {
   "cell_type": "code",
   "execution_count": null,
   "metadata": {},
   "outputs": [],
   "source": []
  }
 ],
 "metadata": {
  "kernelspec": {
   "display_name": "Python 3",
   "language": "python",
   "name": "python3"
  },
  "language_info": {
   "codemirror_mode": {
    "name": "ipython",
    "version": 3
   },
   "file_extension": ".py",
   "mimetype": "text/x-python",
   "name": "python",
   "nbconvert_exporter": "python",
   "pygments_lexer": "ipython3",
   "version": "3.8.8"
  }
 },
 "nbformat": 4,
 "nbformat_minor": 4
}